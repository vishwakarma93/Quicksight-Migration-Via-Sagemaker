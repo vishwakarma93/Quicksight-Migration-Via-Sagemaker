{
 "cells": [
  {
   "cell_type": "markdown",
   "id": "b13a4464",
   "metadata": {},
   "source": [
    "### Importing all the libraries"
   ]
  },
  {
   "cell_type": "code",
   "execution_count": null,
   "id": "401972c6",
   "metadata": {},
   "outputs": [],
   "source": [
    "# Importing all the libraries\n",
    "import  boto3  \n",
    "client = boto3.client('quicksight')\n",
    "account_id = boto3.client('sts').get_caller_identity()['Account'] #extracting AWS account_ID"
   ]
  },
  {
   "cell_type": "markdown",
   "id": "c05ae0af",
   "metadata": {},
   "source": [
    "### The below function will create template from the available analysis. In our case we create two template one for Scoring analysis and other for drift analysis."
   ]
  },
  {
   "cell_type": "code",
   "execution_count": 4,
   "id": "06c999a2",
   "metadata": {},
   "outputs": [],
   "source": [
    "# FUNCTION TO CREATE TEMPLATE\n",
    "\n",
    "def creating_template_from_analysis(account_id, Template_Id, template_name, analysis_arn, dataset_ref ):\n",
    "    response = client.create_template(\n",
    "    AwsAccountId=account_id,\n",
    "    TemplateId=Template_Id,\n",
    "    Name=template_name,\n",
    "    SourceEntity={\n",
    "        'SourceAnalysis': {\n",
    "            'Arn': analysis_arn,\n",
    "            'DataSetReferences':dataset_ref,\n",
    "        } })\n",
    "    return response\n"
   ]
  },
  {
   "cell_type": "markdown",
   "id": "2d846236",
   "metadata": {},
   "source": [
    "### The List API will fetch list of all the quicksight resources in the current account. We have to copy the Id of each datasource, dataset, analysis/dashboard resources that we want to replicate in the other account."
   ]
  },
  {
   "cell_type": "code",
   "execution_count": 7,
   "id": "a2cbcbe8",
   "metadata": {},
   "outputs": [],
   "source": [
    "list_datasource = client.list_data_sources(AwsAccountId= account_id)\n",
    "list_dataset = client.list_data_sets(AwsAccountId=account_id)\n",
    "list_analysis = client.list_analyses(AwsAccountId=account_id)\n",
    "# list_template = client.list_templates(AwsAccountId=account_id)\n",
    "# list_dashboard = client.list_dashboards(AwsAccountId=account_id)"
   ]
  },
  {
   "cell_type": "markdown",
   "id": "47f92c90",
   "metadata": {},
   "source": [
    "### Provide the resource id. Remember we have to create template from the analysis and so we have to assign a template ID, template name and Placeholder_list [ place holder is used to map a dataset with a name while creating a template]."
   ]
  },
  {
   "cell_type": "code",
   "execution_count": null,
   "id": "2598fbff",
   "metadata": {},
   "outputs": [],
   "source": [
    "DataSourceID = '44da590f-5cf4-4a18-9e46-042187db9451'\n",
    "DataSetID = '4a3ce89b-c7c5-4c11-a121-d29df554ec3d'\n",
    "TemplateID = 'TempalteID123123123'\n",
    "TemplateName= 'TemplateName'\n",
    "placeholder_list=['p11']\n",
    "AnalysisID = '011d8c63-980d-4a6a-be28-2b1756ea72f5'\n",
    "Account_B = \"\"  #'Provide Prod account ID here'"
   ]
  },
  {
   "cell_type": "markdown",
   "id": "88cf0578",
   "metadata": {},
   "source": [
    "### We are fetching data ARN list and analysis ARN of our analysis resource which can be found in output of describe_analysis API."
   ]
  },
  {
   "cell_type": "code",
   "execution_count": null,
   "id": "fe186802",
   "metadata": {},
   "outputs": [],
   "source": [
    "#EXTRACTING INFO REQUIRED FOR CREATING TEMPLATE\n",
    "des_analysis = client.describe_analysis(AwsAccountId=account_id,\n",
    "    AnalysisId=AnalysisID)\n",
    "dataset_arn_list = des_analysis['Analysis']['DataSetArns']\n",
    "AnalysisARN = des_analysis['Analysis']['Arn']"
   ]
  },
  {
   "cell_type": "markdown",
   "id": "d0e7ed41",
   "metadata": {},
   "source": [
    "#### Mapping each dataset_arn with placeholder which will be used in creating a template. Providing argument to template creating function  and creating the template. \n",
    "#### Once the template is created it is shared to the other AWS account(INT) account by calling client.update_template_permissions() this function."
   ]
  },
  {
   "cell_type": "code",
   "execution_count": null,
   "id": "31532a2d",
   "metadata": {},
   "outputs": [],
   "source": [
    "# Creating_template:-\n",
    "def creating_template_from_analysis(account_id, Template_Id, template_name, analysis_arn, dataset_ref ):\n",
    "    response = client.create_template(\n",
    "    AwsAccountId=account_id,\n",
    "    TemplateId=Template_Id,\n",
    "    Name=template_name,\n",
    "    SourceEntity={\n",
    "        'SourceAnalysis': {\n",
    "            'Arn': analysis_arn,\n",
    "            'DataSetReferences':dataset_ref,\n",
    "        } })\n",
    "    return response\n",
    "\n",
    "#resource is having one ARN so 1 placeholder is given/ Dataset used for the analysis and Placeholder should be in same number\n",
    "dataset_ref = list()\n",
    "for i in range(len(dataset_arn_list)):\n",
    "    single_datset_ref = {'DataSetArn': dataset_arn_list[i], 'DataSetPlaceholder': placeholder_list[i]}\n",
    "    dataset_ref.append(single_datset_ref)\n",
    "dataset_ref\n",
    "print(dataset_ref)\n",
    "\n",
    "#Creating template here\n",
    "res = creating_template_from_analysis(account_id, TemplateID, TemplateName, AnalysisARN, dataset_ref)\n",
    "print(res)\n",
    "\n",
    "#Sharing the template in the Prod env directly\n",
    "\n",
    "response_updated_perm = client.update_template_permissions(\n",
    "    AwsAccountId=account_id,\n",
    "    TemplateId=TemplateID,\n",
    "    GrantPermissions=[\n",
    "        {\n",
    "            'Principal': f'arn:aws:iam::{Account_B}:root',  #PUt here INT Env AccountID\n",
    "            'Actions': ['quicksight:UpdateTemplatePermissions', 'quicksight:DescribeTemplatePermissions', 'quicksight:UpdateTemplateAlias', 'quicksight:DeleteTemplateAlias', 'quicksight:DescribeTemplateAlias', 'quicksight:ListTemplateAliases', 'quicksight:ListTemplates', 'quicksight:CreateTemplateAlias', 'quicksight:DeleteTemplate', 'quicksight:UpdateTemplate', 'quicksight:ListTemplateVersions', 'quicksight:DescribeTemplate', 'quicksight:CreateTemplate']\n",
    "        },\n",
    "    ]\n",
    ")\n",
    "print(response_updated_perm)\n",
    "\n"
   ]
  },
  {
   "cell_type": "markdown",
   "id": "01d4e9fd",
   "metadata": {},
   "source": [
    "### Creating Json file in a structured format by describing datasource, dataset, template and analysis/dashboard. The dataset and datasource json files has a specific format. Do follow the structure as this files will be used in a similar way while being created/Replicated in the PROD env.\n",
    "\n",
    "### Below cells will automatically create the json files which we need for creating the resoureces in the INT env. We just need to take care of mapping datasource with the dataset. Always start the naming conventions from datasource_0, datasource_1 and dataset_0,dataset_1 and keep increasing the count if more than one datasource or dataset is used in your analysis. \n"
   ]
  },
  {
   "cell_type": "code",
   "execution_count": 1,
   "id": "5eb6992e",
   "metadata": {
    "collapsed": true
   },
   "outputs": [
    {
     "ename": "NameError",
     "evalue": "name 'quicksight' is not defined",
     "output_type": "error",
     "traceback": [
      "\u001b[0;31m---------------------------------------------------------------------------\u001b[0m",
      "\u001b[0;31mNameError\u001b[0m                                 Traceback (most recent call last)",
      "\u001b[0;32m<ipython-input-1-a80519b6b40b>\u001b[0m in \u001b[0;36m<module>\u001b[0;34m\u001b[0m\n\u001b[1;32m      2\u001b[0m \u001b[0;34m\u001b[0m\u001b[0m\n\u001b[1;32m      3\u001b[0m \u001b[0;31m# Creating Datasource json file with proper format\u001b[0m\u001b[0;34m\u001b[0m\u001b[0;34m\u001b[0m\u001b[0;34m\u001b[0m\u001b[0m\n\u001b[0;32m----> 4\u001b[0;31m \u001b[0mdescribe_datasource\u001b[0m \u001b[0;34m=\u001b[0m \u001b[0mquicksight\u001b[0m\u001b[0;34m.\u001b[0m\u001b[0mdescribe_data_source\u001b[0m\u001b[0;34m(\u001b[0m\u001b[0mAwsAccountId\u001b[0m\u001b[0;34m=\u001b[0m\u001b[0maccount_id\u001b[0m\u001b[0;34m,\u001b[0m\u001b[0mDataSourceId\u001b[0m\u001b[0;34m=\u001b[0m\u001b[0mDataSourceID\u001b[0m\u001b[0;34m)\u001b[0m\u001b[0;34m\u001b[0m\u001b[0;34m\u001b[0m\u001b[0m\n\u001b[0m\u001b[1;32m      5\u001b[0m \u001b[0mdescribe_datasource\u001b[0m \u001b[0;34m=\u001b[0m \u001b[0;34m{\u001b[0m\u001b[0;34m\"datasource_0\"\u001b[0m\u001b[0;34m:\u001b[0m\u001b[0mdescribe_datasource\u001b[0m\u001b[0;34m}\u001b[0m\u001b[0;34m\u001b[0m\u001b[0;34m\u001b[0m\u001b[0m\n\u001b[1;32m      6\u001b[0m \u001b[0;34m\u001b[0m\u001b[0m\n",
      "\u001b[0;31mNameError\u001b[0m: name 'quicksight' is not defined"
     ]
    }
   ],
   "source": [
    "#creating json file for all reosurce\n",
    "\n",
    "# Creating Datasource json file with proper format\n",
    "describe_datasource = client.describe_data_source(AwsAccountId=account_id,DataSourceId=DataSourceID)\n",
    "\n",
    "#Creating a json file\n",
    "with open('datasource.json', 'w' ) as out:\n",
    "    json.dump(describe_datasource, out , default=str)\n",
    "\n",
    "#describing dataset and its format\n",
    "describe_dataset = client.describe_data_set(AwsAccountId= account_id,  DataSetId=DataSetID)\n",
    "with open('datset.json', 'w' ) as out:\n",
    "    json.dump(describe_dataset, out , default=str)\n",
    "# Describing template\n",
    "describe_template =  client.describe_template(AwsAccountId=account_id,TemplateId=TemplateID)\n",
    "with open('template.json', 'w' ) as out:\n",
    "    json.dump(describe_template, out , default=str)\n",
    "\n",
    "#this is used in describe analysis Code\n",
    "describe_analysis = {\"analysis_name\": \"ScoringAnlaysis\", #Giving anlaysis name\n",
    "\"analysis_id\":\"ScoringAnlaysis\", #giving analysis ID\n",
    "\"data_mapping\":[{\"dataset_0\":\"datasource_0\"}], #Mapping which dataset belong to which datasource  ex:-{\"dataset_1\":\"datasource_1\"}\n",
    "\"list_folder\":[\"VCI-DataLake/VCI-MLOps/VCI-UserCarModel/Dashboard\",\"VCI-DataLake/VCI-MLOps/VCI-UserCarModel/Assets\"]\n",
    "}  #folder list is here. QS resources are added into this folders. Inside Assets dataset and analysis is added, inside dashboard folder dashboards are added.\n",
    "\n",
    "with open('analysis.json', 'w' ) as out:\n",
    "    json.dump(describe_analysis, out , default=str)\n",
    "\n",
    "#this is used in describe dashboard Code\n",
    "describe_dashboard = {\"dashboard_name\": \"Scoringdashboard\", #dahsboard name\n",
    "\"dashboard_id\":\"Scoringdashboard\",  #dashboard ID providing\n",
    "\"data_mapping\":[{\"dataset_0\":\"datasource_0\"}], #,{\"dataset_1\":\"datasource_1\"} #mapping which datasource belongs to which dataset.\n",
    "\"list_folder\":[\"VCI-DataLake/VCI-MLOps/VCI-UserCarModel/Dashboard\",\"VCI-DataLake/VCI-MLOps/VCI-UserCarModel/Assets\"]}\n",
    "with open('dashboard.json', 'w' ) as out:\n",
    "    json.dump(describe_dashboard, out , default=str)\n",
    "    \n"
   ]
  },
  {
   "cell_type": "markdown",
   "id": "cfcc2e44",
   "metadata": {},
   "source": [
    "##  Update Template codes:-\n",
    "#### This section should be used to create json files for updating any current resource such as dataset, datsource or templates. Suppose our current dataset is updated with some new columns in the dev env. So we'll have to replicate the same in the INT, for that we have to get the updated description of that resource and use it to update the INT env Resource."
   ]
  },
  {
   "cell_type": "code",
   "execution_count": null,
   "id": "468082c0",
   "metadata": {},
   "outputs": [],
   "source": [
    "#creating json file for all reosurce\n",
    "\n",
    "# Creating Datasource json file with proper format\n",
    "describe_datasource = client.describe_data_source(AwsAccountId=account_id,DataSourceId=DataSourceID)\n",
    "\n",
    "with open('datasource.json', 'w' ) as out:\n",
    "    json.dump(describe_datasource, out , default=str)"
   ]
  },
  {
   "cell_type": "code",
   "execution_count": null,
   "id": "80507f6a",
   "metadata": {},
   "outputs": [],
   "source": [
    "#describing dataset and its format\n",
    "\n",
    "describe_dataset = client.describe_data_set(AwsAccountId= account_id,  DataSetId=DataSetID)\n",
    "with open('datset.json', 'w' ) as out:\n",
    "    json.dump(describe_dataset, out , default=str)"
   ]
  },
  {
   "cell_type": "code",
   "execution_count": null,
   "id": "0b2c452d",
   "metadata": {},
   "outputs": [],
   "source": [
    "# Template either for analysis\n",
    "describe_template = {describe_template,\n",
    "\"action\":\"analysis\",\n",
    "\"analysis\":{\"analysis_id\":\"ScoringAnlaysisLambdaTrial4\",\"analysis_name\":\"ScoringAnlaysisLambdaTrial4\"}}\n",
    "\n",
    "# Describing template\n",
    "describe_template =  client.describe_template(AwsAccountId=account_id,TemplateId=TemplateID)\n",
    "with open('template.json', 'w' ) as out:\n",
    "    json.dump(describe_template, out , default=str)"
   ]
  },
  {
   "cell_type": "code",
   "execution_count": null,
   "id": "627aa88f",
   "metadata": {},
   "outputs": [],
   "source": [
    "# Template either for dashboard\n",
    "describe_template = {describe_template,\n",
    "\"action\":\"dashboard\",\n",
    "\"dashboard\":{\"dashboard_id\":\"Scoringdashboard\",\"dashboard_name\":\"Scoringdashboard\"}}\n",
    "\n",
    "# Describing template\n",
    "describe_template =  client.describe_template(AwsAccountId=account_id,TemplateId=TemplateID)\n",
    "with open('template.json', 'w' ) as out:\n",
    "    json.dump(describe_template, out , default=str)"
   ]
  }
 ],
 "metadata": {
  "kernelspec": {
   "display_name": "conda_python3",
   "language": "python",
   "name": "conda_python3"
  },
  "language_info": {
   "codemirror_mode": {
    "name": "ipython",
    "version": 3
   },
   "file_extension": ".py",
   "mimetype": "text/x-python",
   "name": "python",
   "nbconvert_exporter": "python",
   "pygments_lexer": "ipython3",
   "version": "3.6.13"
  }
 },
 "nbformat": 4,
 "nbformat_minor": 5
}
