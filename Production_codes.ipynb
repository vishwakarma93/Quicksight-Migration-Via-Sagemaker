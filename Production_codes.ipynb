{
 "cells": [
  {
   "cell_type": "markdown",
   "id": "ab7a6a8e",
   "metadata": {},
   "source": [
    "# Using this in account B (Prod env) to create the resource."
   ]
  },
  {
   "cell_type": "markdown",
   "id": "cee0d6fe",
   "metadata": {},
   "source": [
    "#### Move all the Json files created in DEV env to the current directory in your notebook instance.\n"
   ]
  },
  {
   "cell_type": "code",
   "execution_count": 1,
   "id": "deb2ac88",
   "metadata": {},
   "outputs": [
    {
     "name": "stderr",
     "output_type": "stream",
     "text": [
      "/home/ec2-user/anaconda3/envs/python3/lib/python3.6/site-packages/boto3/compat.py:88: PythonDeprecationWarning: Boto3 will no longer support Python 3.6 starting May 30, 2022. To continue receiving service updates, bug fixes, and security updates please upgrade to Python 3.7 or later. More information can be found here: https://aws.amazon.com/blogs/developer/python-support-policy-updates-for-aws-sdks-and-tools/\n",
      "  warnings.warn(warning, PythonDeprecationWarning)\n"
     ]
    }
   ],
   "source": [
    "#importing the required libraries\n",
    "import json\n",
    "import boto3\n",
    "import time\n",
    "client  = boto3.client('quicksight')\n",
    "s3=boto3.resource('s3')\n",
    "account_id = boto3.client('sts').get_caller_identity()['Account']"
   ]
  },
  {
   "cell_type": "code",
   "execution_count": 2,
   "id": "51053207",
   "metadata": {},
   "outputs": [
    {
     "data": {
      "text/plain": [
       "{'ResponseMetadata': {'RequestId': 'c5cacffc-be41-445d-a4cc-88f8fc9b748e',\n",
       "  'HTTPStatusCode': 200,\n",
       "  'HTTPHeaders': {'date': 'Sun, 07 Aug 2022 11:20:09 GMT',\n",
       "   'content-type': 'application/json',\n",
       "   'content-length': '2265',\n",
       "   'connection': 'keep-alive',\n",
       "   'x-amzn-requestid': 'c5cacffc-be41-445d-a4cc-88f8fc9b748e'},\n",
       "  'RetryAttempts': 0},\n",
       " 'Status': 200,\n",
       " 'UserList': [{'Arn': 'arn:aws:quicksight:us-east-1:508495579255:user/default/Dilip',\n",
       "   'UserName': 'Dilip',\n",
       "   'Email': 'r.kumar2@wipro.com',\n",
       "   'Role': 'ADMIN',\n",
       "   'IdentityType': 'IAM',\n",
       "   'Active': True,\n",
       "   'PrincipalId': 'federated/iam/AIDAJ5VSDCKPTA22IOYCU'},\n",
       "  {'Arn': 'arn:aws:quicksight:us-east-1:508495579255:user/default/ajay.vishwakarma3@wipro.com',\n",
       "   'UserName': 'ajay.vishwakarma3@wipro.com',\n",
       "   'Email': 'ajay.vishwakarma3@wipro.com',\n",
       "   'Role': 'ADMIN',\n",
       "   'IdentityType': 'IAM',\n",
       "   'Active': True,\n",
       "   'PrincipalId': 'federated/iam/AIDAXMZFSZB3TGH4LRLH3'},\n",
       "  {'Arn': 'arn:aws:quicksight:us-east-1:508495579255:user/default/ims-quicksight',\n",
       "   'UserName': 'ims-quicksight',\n",
       "   'Email': 'vishwanath.hegdekota@wipro.com',\n",
       "   'Role': 'READER',\n",
       "   'IdentityType': 'IAM',\n",
       "   'Active': True,\n",
       "   'PrincipalId': 'federated/iam/AIDAXMZFSZB3R44GPFGNF'},\n",
       "  {'Arn': 'arn:aws:quicksight:us-east-1:508495579255:user/default/indhuja',\n",
       "   'UserName': 'indhuja',\n",
       "   'Email': 'indhuja.s67@wipro.com',\n",
       "   'Role': 'AUTHOR',\n",
       "   'IdentityType': 'IAM',\n",
       "   'Active': True,\n",
       "   'PrincipalId': 'federated/iam/AIDAXMZFSZB3QSIF2PAUU'},\n",
       "  {'Arn': 'N/A',\n",
       "   'UserName': 'N/A',\n",
       "   'Email': 'anushyadevi.deivashigamani1@wipro.com',\n",
       "   'Role': 'READER',\n",
       "   'IdentityType': 'IAM',\n",
       "   'Active': True,\n",
       "   'PrincipalId': 'federated/iam/AIDAXMZFSZB3YBMOMDDED'}],\n",
       " 'RequestId': 'c5cacffc-be41-445d-a4cc-88f8fc9b748e'}"
      ]
     },
     "execution_count": 2,
     "metadata": {},
     "output_type": "execute_result"
    }
   ],
   "source": [
    "# Provide the User ARN avaialble in the quicksight. \n",
    "\n",
    "response = client.list_users(AwsAccountId=account_id,Namespace='default')\n",
    "response"
   ]
  },
  {
   "cell_type": "code",
   "execution_count": 3,
   "id": "6a4c79f8",
   "metadata": {},
   "outputs": [],
   "source": [
    "# Functions required to create the resources\n",
    "\n",
    "def create_datasource(client, account_id,Data_source_Id,data_source_name,type_ds,DataSourceParameter,user_arn,SslProperty):\n",
    "    response = client.create_data_source(\n",
    "    AwsAccountId=account_id,\n",
    "    DataSourceId=Data_source_Id,      #Ds_id, #we'll provide the ds id\n",
    "    Name=data_source_name, #display name for the data source\n",
    "    Type=type_ds,\n",
    "    DataSourceParameters=DataSourceParameter,\n",
    "    #     Credentials=Credential,\n",
    "    Permissions=[\n",
    "    {'Principal': user_arn,\n",
    "        'Actions': [\"quicksight:DescribeDataSource\",\"quicksight:DescribeDataSourcePermissions\",\"quicksight:PassDataSource\",\"quicksight:UpdateDataSource\",\"quicksight:DeleteDataSource\",\"quicksight:UpdateDataSourcePermissions\"]}],\n",
    "    #     VpcConnectionProperties={\n",
    "    #         'VpcConnectionArn': 'string'\n",
    "    #     },\n",
    "    SslProperties=SslProperty)\n",
    "    return response\n",
    "\n",
    "\n",
    "def create_dataset(client, account_id, dataset_id,dataset_name,user_arn,Physical_TableMap,Logical_TableMap,Import_Mode,DataSet_Usage_Configuration ):\n",
    "    output = client.create_data_set(\n",
    "    AwsAccountId=account_id,\n",
    "    DataSetId=dataset_id,\n",
    "    Name=dataset_name, #dataset_name,\n",
    "        Permissions=[\n",
    "        {'Principal': user_arn,\n",
    "            'Actions': [\"quicksight:DescribeDataSet\",\"quicksight:DescribeDataSetPermissions\",\"quicksight:PassDataSet\",\"quicksight:DescribeIngestion\",\"quicksight:ListIngestions\",\"quicksight:UpdateDataSet\",\"quicksight:DeleteDataSet\",\"quicksight:CreateIngestion\",\"quicksight:CancelIngestion\",\"quicksight:UpdateDataSetPermissions\"]}],\n",
    "    PhysicalTableMap=Physical_TableMap,\n",
    "    LogicalTableMap=Logical_TableMap,\n",
    "    ImportMode=Import_Mode,    \n",
    "    DataSetUsageConfiguration=DataSet_Usage_Configuration )\n",
    "    return output\n",
    "\n",
    "\n",
    "\n",
    "def create_template_from_template(client,account_id,Template_Id,template_name,template_arn,user_arn):\n",
    "    response = client.create_template(\n",
    "    AwsAccountId=account_id,\n",
    "    TemplateId=Template_Id,\n",
    "    Name=template_name,\n",
    "    Permissions=[\n",
    "            {'Principal': user_arn,\n",
    "                'Actions': ['quicksight:UpdateTemplatePermissions', 'quicksight:DescribeTemplatePermissions', 'quicksight:UpdateTemplateAlias', 'quicksight:DeleteTemplateAlias', 'quicksight:DescribeTemplateAlias', 'quicksight:ListTemplateAliases', 'quicksight:ListTemplates', 'quicksight:CreateTemplateAlias', 'quicksight:DeleteTemplate', 'quicksight:UpdateTemplate', 'quicksight:ListTemplateVersions', 'quicksight:DescribeTemplate', 'quicksight:CreateTemplate']}],    \n",
    "            SourceEntity={\n",
    "            'SourceTemplate': {\n",
    "                'Arn': template_arn\n",
    "            }\n",
    "        })\n",
    "    return response\n",
    "\n",
    "def creating_analysis(client, account_id, analysis_id, analysis_name,dataset_ref, template_arn):\n",
    "    response = client.create_analysis(\n",
    "    AwsAccountId=account_id,\n",
    "    AnalysisId=analysis_id,\n",
    "    Name=analysis_name,\n",
    "    SourceEntity={\n",
    "        'SourceTemplate': {\n",
    "            'DataSetReferences': dataset_ref,\n",
    "            \"Arn\":template_arn,\n",
    "                }\n",
    "            }\n",
    "        )\n",
    "    return response"
   ]
  },
  {
   "cell_type": "code",
   "execution_count": 4,
   "id": "5dd7d76d",
   "metadata": {},
   "outputs": [],
   "source": [
    "# Read and loads the datasource file\n",
    "describe_datasource = open('datasource.json')\n",
    "describe_datasource = json.load(describe_datasource)"
   ]
  },
  {
   "cell_type": "code",
   "execution_count": 6,
   "id": "461d8a30",
   "metadata": {},
   "outputs": [],
   "source": [
    "#input parameters required\n",
    "user_arn= 'arn:aws:quicksight:us-east-1:<account_Id>:user/default/<email.id.com>'\n",
    "analysis_id = \"Provide a unique ID for your analysis\" \n",
    "analysis_name = \"Provide a unique name for your analysis\""
   ]
  },
  {
   "cell_type": "code",
   "execution_count": 5,
   "id": "bfd4d5b2",
   "metadata": {},
   "outputs": [],
   "source": [
    "# We are taking input values from json file which we'll use to create a new datasource\n",
    "ds_Id = describe_datasource['DataSource']['DataSourceId']\n",
    "ds_Name = describe_datasource['DataSource']['Name']\n",
    "ds_parameters = describe_datasource['DataSource']['DataSourceParameters']\n",
    "ssl = describe_datasource['DataSource']['SslProperties']\n",
    "type_ds = describe_datasource['DataSource']['Type']\n",
    "\n",
    "datasource_response = create_datasource(client, account_id,ds_Id,ds_Name,type_ds,ds_parameters,user_arn,ssl)\n",
    "time.sleep(20)\n",
    "datasource_arn = datasource_response['Arn'] # ARN of the resource we'll use while creating dataset"
   ]
  },
  {
   "cell_type": "code",
   "execution_count": 6,
   "id": "400abf52",
   "metadata": {},
   "outputs": [],
   "source": [
    "# Read and load the dataset json file\n",
    "describe_dataset = open('dataset.json')\n",
    "describe_dataset = json.load(describe_dataset)"
   ]
  },
  {
   "cell_type": "code",
   "execution_count": 11,
   "id": "703008ef",
   "metadata": {},
   "outputs": [
    {
     "data": {
      "text/plain": [
       "{'666e9667-40a4-45b6-bc35-4dd0430459b6': {'RelationalTable': {'DataSourceArn': 'datasource_arn',\n",
       "   'Catalog': 'AwsDataCatalog',\n",
       "   'Schema': 'modelmonitor-ghgwauarm0pf',\n",
       "   'Name': 'scoringtrend',\n",
       "   'InputColumns': [{'Name': 'runtime', 'Type': 'STRING'},\n",
       "    {'Name': 'id', 'Type': 'STRING'},\n",
       "    {'Name': 'year', 'Type': 'STRING'},\n",
       "    {'Name': 'manufacturer', 'Type': 'STRING'},\n",
       "    {'Name': 'model', 'Type': 'STRING'},\n",
       "    {'Name': 'condition', 'Type': 'STRING'},\n",
       "    {'Name': 'cylinders', 'Type': 'STRING'},\n",
       "    {'Name': 'fuel', 'Type': 'STRING'},\n",
       "    {'Name': 'odometer', 'Type': 'STRING'},\n",
       "    {'Name': 'title_status', 'Type': 'STRING'},\n",
       "    {'Name': 'transmission', 'Type': 'STRING'},\n",
       "    {'Name': 'drive', 'Type': 'STRING'},\n",
       "    {'Name': 'type', 'Type': 'STRING'},\n",
       "    {'Name': 'paint_color', 'Type': 'STRING'},\n",
       "    {'Name': 'predprice', 'Type': 'STRING'},\n",
       "    {'Name': 'baseprice', 'Type': 'STRING'},\n",
       "    {'Name': 'baseodometer', 'Type': 'STRING'},\n",
       "    {'Name': 'basecylinders', 'Type': 'STRING'},\n",
       "    {'Name': 'modelname', 'Type': 'STRING'}]}}}"
      ]
     },
     "execution_count": 11,
     "metadata": {},
     "output_type": "execute_result"
    }
   ],
   "source": [
    "# fetching values required to create datasource from our json files\n",
    "Import_Mode = describe_dataset['DataSet']['ImportMode']\n",
    "Logical_TableMap=describe_dataset['DataSet']['LogicalTableMap']\n",
    "Physical_TableMap=describe_dataset['DataSet']['PhysicalTableMap']\n",
    "DataSet_Usage_Configuration = describe_dataset['DataSet']['DataSetUsageConfiguration']\n",
    "dataset_Id = describe_dataset['DataSet']['DataSetId']\n",
    "dataset_Name = describe_dataset['DataSet']['Name']\n",
    "\n",
    "# Replacing the datasource Arn in the physical table map\n",
    "for k,values in Physical_TableMap.items():\n",
    "    diff_key = k\n",
    "    mapping= Physical_TableMap[diff_key]\n",
    "    for l,values in mapping.items():\n",
    "        Physical_TableMap[diff_key][l]['DataSourceArn'] = datasource_arn\n",
    "        "
   ]
  },
  {
   "cell_type": "code",
   "execution_count": 6,
   "id": "ba7428ff",
   "metadata": {},
   "outputs": [
    {
     "data": {
      "text/plain": [
       "{'DisableUseAsDirectQuerySource': False, 'DisableUseAsImportedSource': False}"
      ]
     },
     "execution_count": 6,
     "metadata": {},
     "output_type": "execute_result"
    }
   ],
   "source": [
    "dataset_response = create_dataset(client, account_id,dataset_Id,dataset_Name,user_arn, Physical_TableMap,Logical_TableMap,Import_Mode,DataSet_Usage_Configuration)\n",
    "time.sleep(20)\n",
    "dataset_arn = dataset_response['Arn']"
   ]
  },
  {
   "cell_type": "code",
   "execution_count": 8,
   "id": "85cb8687",
   "metadata": {},
   "outputs": [],
   "source": [
    "# Creating the template from the shared template\n",
    "\n",
    "describe_template = open('template.json')\n",
    "describe_template = json.load(describe_template)\n",
    "\n",
    "describe_template={\"ResponseMetadata\": {\"RequestId\": \"bab1a7ef-8ca6-41b7-8953-8cccd93fa170\", \"HTTPStatusCode\": 200, \"HTTPHeaders\": {\"date\": \"Tue, 28 Jun 2022 05:12:14 GMT\", \"content-type\": \"application/json\", \"content-length\": \"2963\", \"connection\": \"keep-alive\", \"x-amzn-requestid\": \"bab1a7ef-8ca6-41b7-8953-8cccd93fa170\"}, \"RetryAttempts\": 0}, \"Status\": 200, \"Template\": {\"Arn\": \"arn:aws:quicksight:us-east-1:525102048888:template/MM1\", \"Name\": \"MMM1\", \"Version\": {\"CreatedTime\": \"2022-06-24 12:26:05.863000+00:00\", \"VersionNumber\": 1, \"Status\": \"CREATION_SUCCESSFUL\", \"DataSetConfigurations\": [{\"Placeholder\": \"p1\", \"DataSetSchema\": {\"ColumnSchemaList\": [{\"Name\": \"infertype\", \"DataType\": \"STRING\"}, {\"Name\": \"bslineodometer\", \"DataType\": \"DECIMAL\"}, {\"Name\": \"transmission\", \"DataType\": \"STRING\"}, {\"Name\": \"monitorjobname\", \"DataType\": \"STRING\"}, {\"Name\": \"bslineprice\", \"DataType\": \"DECIMAL\"}, {\"Name\": \"vmodelname\", \"DataType\": \"STRING\"}, {\"Name\": \"scoringfilename\", \"DataType\": \"STRING\"}, {\"Name\": \"odometer\", \"DataType\": \"DECIMAL\"}, {\"Name\": \"monitorbatchid\", \"DataType\": \"INTEGER\"}, {\"Name\": \"predprice\", \"DataType\": \"DECIMAL\"}, {\"Name\": \"cylinders\", \"DataType\": \"STRING\"}, {\"Name\": \"batchid\", \"DataType\": \"INTEGER\"}, {\"Name\": \"modelname\", \"DataType\": \"STRING\"}, {\"Name\": \"inferenceid\", \"DataType\": \"STRING\"}, {\"Name\": \"runtime\", \"DataType\": \"DATETIME\"}]}, \"ColumnGroupSchemaList\": []}, {\"Placeholder\": \"p2\", \"DataSetSchema\": {\"ColumnSchemaList\": [{\"Name\": \"infertype\", \"DataType\": \"STRING\"}, {\"Name\": \"start_time\", \"DataType\": \"STRING\"}, {\"Name\": \"description\", \"DataType\": \"STRING\"}, {\"Name\": \"modelname\", \"DataType\": \"STRING\"}, {\"Name\": \"monitorjobname\", \"DataType\": \"STRING\"}, {\"Name\": \"feature_name\", \"DataType\": \"STRING\"}]}, \"ColumnGroupSchemaList\": []}], \"SourceEntityArn\": \"arn:aws:quicksight:us-east-1:525102048888:analysis/011d8c63-980d-4a6a-be28-2b1756ea72f5\", \"ThemeArn\": \"arn:aws:quicksight::aws:theme/MIDNIGHT\", \"Sheets\": [{\"SheetId\": \"d95e166e-8153-4e18-a763-91ef1befec96\", \"Name\": \"priceTrendPred\"}, {\"SheetId\": \"d29626b7-3a1e-4948-8fee-04afcd5fa40b\", \"Name\": \"ScoringDetailAnalysis\"}, {\"SheetId\": \"d6dee9bd-eff6-45d9-950f-bb94f045ad58\", \"Name\": \"MonitorJobDetail\"}, {\"SheetId\": \"94e31f8e-1f71-4bac-8a58-12e84f2ce0ee\", \"Name\": \"BatchIdDetails\"}]}, \"TemplateId\": \"MM1\", \"LastUpdatedTime\": \"2022-06-24 12:26:05.858000+00:00\", \"CreatedTime\": \"2022-06-24 12:26:05.858000+00:00\"}, \"RequestId\": \"bab1a7ef-8ca6-41b7-8953-8cccd93fa170\"}\n",
    "\n",
    "dev_tmpl_arn= describe_template['Template']['Arn']\n",
    "template_name = describe_template['Template']['Name']\n",
    "template_id = describe_template['Template']['TemplateId']\n",
    "dataset_configuration = describe_template['Template']['Version']['DataSetConfigurations']\n",
    "placeholder = describe_template['Template']['Version']['DataSetConfigurations'][0]['Placeholder']\n"
   ]
  },
  {
   "cell_type": "code",
   "execution_count": 16,
   "id": "224bb60a",
   "metadata": {},
   "outputs": [],
   "source": [
    "template_response create_template_from_template(client,account_id,template_id,template_name,dev_tmpl_arn, user_arn)\n",
    "template_arn = template_response['Arn']\n",
    "time.sleep(20)"
   ]
  },
  {
   "cell_type": "code",
   "execution_count": 17,
   "id": "4601e4b8",
   "metadata": {},
   "outputs": [],
   "source": [
    "#Creating analysis from the template\n",
    "dataset_ref = [{'DataSetPlaceholder':placeholder,'DataSetArn':dataset_arn}]\n",
    "\n",
    "creating_analysis(client, account_id, analysis_id, analysis_name,dataset_ref, template_arn)\n",
    "\n",
    "time.sleep(20)"
   ]
  },
  {
   "cell_type": "code",
   "execution_count": null,
   "id": "b132ad7b",
   "metadata": {},
   "outputs": [],
   "source": []
  },
  {
   "cell_type": "code",
   "execution_count": null,
   "id": "75108d95",
   "metadata": {},
   "outputs": [],
   "source": []
  },
  {
   "cell_type": "code",
   "execution_count": null,
   "id": "9c719b0a",
   "metadata": {},
   "outputs": [],
   "source": []
  },
  {
   "cell_type": "code",
   "execution_count": null,
   "id": "96dcbf16",
   "metadata": {},
   "outputs": [],
   "source": []
  },
  {
   "cell_type": "code",
   "execution_count": null,
   "id": "9342c80d",
   "metadata": {},
   "outputs": [],
   "source": []
  },
  {
   "cell_type": "code",
   "execution_count": null,
   "id": "53a1678f",
   "metadata": {},
   "outputs": [],
   "source": []
  },
  {
   "cell_type": "code",
   "execution_count": null,
   "id": "33153ebb",
   "metadata": {},
   "outputs": [],
   "source": []
  }
 ],
 "metadata": {
  "kernelspec": {
   "display_name": "conda_python3",
   "language": "python",
   "name": "conda_python3"
  },
  "language_info": {
   "codemirror_mode": {
    "name": "ipython",
    "version": 3
   },
   "file_extension": ".py",
   "mimetype": "text/x-python",
   "name": "python",
   "nbconvert_exporter": "python",
   "pygments_lexer": "ipython3",
   "version": "3.6.13"
  }
 },
 "nbformat": 4,
 "nbformat_minor": 5
}
